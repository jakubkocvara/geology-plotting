{
 "cells": [
  {
   "cell_type": "code",
   "execution_count": 1,
   "metadata": {},
   "outputs": [],
   "source": [
    "import pandas as pd\n",
    "import re\n",
    "from itertools import groupby, chain"
   ]
  },
  {
   "cell_type": "code",
   "execution_count": 2,
   "metadata": {},
   "outputs": [],
   "source": [
    "import plotly\n",
    "import plotly.graph_objects as go"
   ]
  },
  {
   "cell_type": "code",
   "execution_count": 3,
   "metadata": {},
   "outputs": [],
   "source": [
    "def get_traces(filename, value, color):\n",
    "    f = open(filename, \"r\")\n",
    "    lines = f.readlines()\n",
    "\n",
    "    lines = list(map(lambda x: x.strip(), lines))\n",
    "\n",
    "    def is_splitting_row(x):\n",
    "        return re.match('^2\\s+.+', x) is not None\n",
    "\n",
    "    split_list = [list(group) for k, group in groupby(lines, is_splitting_row) if not k]\n",
    "\n",
    "    split_list = split_list[1:]\n",
    "\n",
    "    def extract(x):\n",
    "        try:\n",
    "            val = float(re.match('.+\\s+([^\\s]+)', x[-2]).groups()[0])\n",
    "        except:\n",
    "            val = 0\n",
    "\n",
    "        points = ' '.join(x[:-2]).split()\n",
    "        filtered_points = [elem for idx, elem in enumerate(points) if (idx + 1) % 3 != 0]\n",
    "        point_tuples = list(zip(filtered_points[::2], filtered_points[1::2]))\n",
    "        return dict(val = val, points = point_tuples)    \n",
    "\n",
    "    result = list(map(extract, split_list))\n",
    "\n",
    "    test_data = [x for x in result if x['val'] == value]\n",
    "\n",
    "    traces = []\n",
    "\n",
    "    for item in test_data:\n",
    "        trace = go.Scatter(x=[i[0] for i in item['points']], \n",
    "                           y=[i[1] for i in item['points']], \n",
    "                           mode='lines',  \n",
    "                           line=dict(color=color),\n",
    "                           name = filename + ' - ' + str(value),\n",
    "                           showlegend  = False)\n",
    "        traces.append(trace)\n",
    "\n",
    "    traces.append(go.Scatter(x=[None], y=[None], mode='markers',\n",
    "                       marker=dict(size=10, color=color), showlegend=True, name=filename + ' - ' + str(value)))\n",
    "    return traces"
   ]
  },
  {
   "cell_type": "code",
   "execution_count": 4,
   "metadata": {},
   "outputs": [],
   "source": [
    "def plot(config):\n",
    "    traces = []\n",
    "\n",
    "    for item in config:    \n",
    "        traces = traces + get_traces(item['filename'], item['value'], item['color'])\n",
    "\n",
    "    fig = go.Figure(data=traces)\n",
    "    fig.update_xaxes(range=[500, 1200], title='Temperature')\n",
    "    fig.update_yaxes(range=[4000, 12000], title='Pressure')\n",
    "    fig.update_layout(\n",
    "        autosize=False,\n",
    "        width=900,\n",
    "        height=700)\n",
    "\n",
    "    fig.show()"
   ]
  },
  {
   "cell_type": "code",
   "execution_count": 7,
   "metadata": {},
   "outputs": [
    {
     "data": {
      "application/vnd.plotly.v1+json": {
       "config": {
        "plotlyServerURL": "https://plot.ly"
       },
       "data": [
        {
         "line": {
          "color": "red"
         },
         "mode": "lines",
         "name": "data/geology/Grt-Alm_domplt.plt - 0.5",
         "showlegend": false,
         "type": "scatter",
         "x": [
          "905.85",
          "905.78",
          "905.58",
          "902.50",
          "901.47",
          "892.18",
          "885.00",
          "880.15",
          "864.70",
          "850.00",
          "844.46",
          "832.50",
          "831.61",
          "831.41"
         ],
         "y": [
          "8187.5",
          "8188.3",
          "8200.0",
          "8353.9",
          "8400.0",
          "8800.0",
          "9050.8",
          "9200.0",
          "9600.0",
          "9900.8",
          "10000.0",
          "10186.7",
          "10200.0",
          "10202.3"
         ]
        },
        {
         "line": {
          "color": "red"
         },
         "mode": "lines",
         "name": "data/geology/Grt-Alm_domplt.plt - 0.5",
         "showlegend": false,
         "type": "scatter",
         "x": [
          "558.17",
          "558.17",
          "558.17",
          "558.17"
         ],
         "y": [
          "10375.0",
          "10400.0",
          "10450.0",
          "10475.0"
         ]
        },
        {
         "line": {
          "color": "red"
         },
         "mode": "lines",
         "name": "data/geology/Grt-Alm_domplt.plt - 0.5",
         "showlegend": false,
         "type": "scatter",
         "x": [
          "550.31",
          "551.06",
          "552.50",
          "570.00",
          "603.15",
          "640.00",
          "710.00",
          "715.95",
          "745.00",
          "765.03",
          "771.25",
          "776.79",
          "780.00",
          "782.80",
          "784.38",
          "787.45",
          "788.75",
          "788.82"
         ],
         "y": [
          "10044.5",
          "10050.0",
          "10060.2",
          "10178.9",
          "10400.0",
          "10649.2",
          "11153.9",
          "11200.0",
          "11433.6",
          "11600.0",
          "11652.3",
          "11700.0",
          "11727.3",
          "11750.0",
          "11763.3",
          "11750.0",
          "11700.8",
          "11700.0"
         ]
        },
        {
         "line": {
          "color": "red"
         },
         "mode": "lines",
         "name": "data/geology/Grt-Alm_domplt.plt - 0.5",
         "showlegend": false,
         "type": "scatter",
         "x": [
          "763.39",
          "767.08",
          "780.00",
          "780.48",
          "786.49",
          "791.83",
          "796.20",
          "797.50",
          "799.07",
          "799.35",
          "797.50",
          "794.01",
          "793.12",
          "791.28",
          "790.94",
          "789.91",
          "789.84",
          "789.37"
         ],
         "y": [
          "9900.0",
          "10000.0",
          "10383.6",
          "10400.0",
          "10600.0",
          "10800.0",
          "11000.0",
          "11078.9",
          "11200.0",
          "11400.0",
          "11510.2",
          "11600.0",
          "11616.4",
          "11650.0",
          "11655.5",
          "11675.0",
          "11675.8",
          "11687.5"
         ]
        },
        {
         "line": {
          "color": "red"
         },
         "mode": "lines",
         "name": "data/geology/Grt-Alm_domplt.plt - 0.5",
         "showlegend": false,
         "type": "scatter",
         "x": [
          "558.17",
          "557.35",
          "555.71",
          "552.43",
          "550.79",
          "550.65",
          "550.52"
         ],
         "y": [
          "10500.0",
          "10600.0",
          "10800.0",
          "11200.0",
          "11400.0",
          "11425.0",
          "11437.5"
         ]
        },
        {
         "line": {
          "color": "red"
         },
         "mode": "lines",
         "name": "data/geology/Grt-Alm_domplt.plt - 0.5",
         "showlegend": false,
         "type": "scatter",
         "x": [
          "549.29",
          "549.22",
          "549.15",
          "549.01",
          "548.47",
          "545.05"
         ],
         "y": [
          "11512.5",
          "11522.7",
          "11525.0",
          "11550.0",
          "11600.0",
          "12000.0"
         ]
        },
        {
         "line": {
          "color": "red"
         },
         "mode": "lines",
         "name": "data/geology/Grt-Alm_domplt.plt - 0.5",
         "showlegend": false,
         "type": "scatter",
         "x": [
          "763.59",
          "764.69",
          "765.99",
          "771.25",
          "780.00",
          "797.50",
          "801.88",
          "802.97"
         ],
         "y": [
          "9891.4",
          "9894.5",
          "9900.0",
          "9918.0",
          "9946.1",
          "9986.7",
          "9994.5",
          "9996.1"
         ]
        },
        {
         "line": {
          "color": "red"
         },
         "mode": "lines",
         "name": "data/geology/Grt-Alm_domplt.plt - 0.5",
         "showlegend": false,
         "type": "scatter",
         "x": [
          "804.06",
          "804.27"
         ],
         "y": [
          "9997.7",
          "10000.0"
         ]
        },
        {
         "line": {
          "color": "red"
         },
         "mode": "lines",
         "name": "data/geology/Grt-Alm_domplt.plt - 0.5",
         "showlegend": false,
         "type": "scatter",
         "x": [
          "805.16",
          "805.91",
          "806.25",
          "815.00",
          "829.56",
          "830.31"
         ],
         "y": [
          "10007.0",
          "10012.5",
          "10014.8",
          "10085.2",
          "10200.0",
          "10205.5"
         ]
        },
        {
         "line": {
          "color": "red"
         },
         "mode": "lines",
         "name": "data/geology/Grt-Alm_domplt.plt - 0.5",
         "showlegend": false,
         "type": "scatter",
         "x": [
          "550.11",
          "551.34",
          "552.50",
          "553.80",
          "556.26",
          "556.88",
          "557.63",
          "557.90",
          "557.97"
         ],
         "y": [
          "10050.0",
          "10100.0",
          "10149.2",
          "10200.0",
          "10300.0",
          "10322.7",
          "10350.0",
          "10362.5",
          "10364.8"
         ]
        },
        {
         "line": {
          "color": "red"
         },
         "mode": "lines",
         "name": "data/geology/Grt-Alm_domplt.plt - 0.5",
         "showlegend": false,
         "type": "scatter",
         "x": [
          "549.42"
         ],
         "y": [
          "11500.0"
         ]
        },
        {
         "line": {
          "color": "red"
         },
         "mode": "lines",
         "name": "data/geology/Grt-Alm_domplt.plt - 0.5",
         "showlegend": false,
         "type": "scatter",
         "x": [
          "550.38",
          "550.31",
          "549.97",
          "549.70"
         ],
         "y": [
          "11450.0",
          "11453.9",
          "11475.0",
          "11487.5"
         ]
        },
        {
         "line": {
          "color": "red"
         },
         "mode": "lines",
         "name": "data/geology/Grt-Alm_domplt.plt - 0.5",
         "showlegend": false,
         "type": "scatter",
         "x": [
          "906.12"
         ],
         "y": [
          "8175.0"
         ]
        },
        {
         "line": {
          "color": "red"
         },
         "mode": "lines",
         "name": "data/geology/Grt-Alm_domplt.plt - 0.5",
         "showlegend": false,
         "type": "scatter",
         "x": [
          "558.17"
         ],
         "y": [
          "10487.5"
         ]
        },
        {
         "marker": {
          "color": "red",
          "size": 10
         },
         "mode": "markers",
         "name": "data/geology/Grt-Alm_domplt.plt - 0.5",
         "showlegend": true,
         "type": "scatter",
         "x": [
          null
         ],
         "y": [
          null
         ]
        },
        {
         "line": {
          "color": "blue"
         },
         "mode": "lines",
         "name": "data/geology/Grt-Gr_domplt.plt - 0.2",
         "showlegend": false,
         "type": "scatter",
         "x": [
          "678.49",
          "640.00",
          "638.70",
          "617.92",
          "614.91",
          "614.84"
         ],
         "y": [
          "5600.0",
          "6372.7",
          "6400.0",
          "6800.0",
          "6850.0",
          "6850.8"
         ]
        },
        {
         "line": {
          "color": "blue"
         },
         "mode": "lines",
         "name": "data/geology/Grt-Gr_domplt.plt - 0.2",
         "showlegend": false,
         "type": "scatter",
         "x": [
          "614.23",
          "613.96",
          "613.75",
          "613.41",
          "611.08",
          "606.03",
          "605.00",
          "600.56",
          "600.15"
         ],
         "y": [
          "6862.5",
          "6875.0",
          "6883.6",
          "6900.0",
          "7000.0",
          "7200.0",
          "7238.3",
          "7400.0",
          "7412.5"
         ]
        },
        {
         "line": {
          "color": "blue"
         },
         "mode": "lines",
         "name": "data/geology/Grt-Gr_domplt.plt - 0.2",
         "showlegend": false,
         "type": "scatter",
         "x": [
          "568.02",
          "568.91",
          "568.97",
          "570.00",
          "570.75",
          "574.17",
          "578.75",
          "581.28",
          "587.50",
          "595.22",
          "640.00",
          "649.64",
          "701.04",
          "710.00",
          "748.76",
          "749.38",
          "750.13",
          "750.47"
         ],
         "y": [
          "7612.5",
          "7624.2",
          "7625.0",
          "7639.8",
          "7650.0",
          "7700.0",
          "7764.8",
          "7800.0",
          "7889.8",
          "8000.0",
          "8655.5",
          "8800.0",
          "9600.0",
          "9746.1",
          "10400.0",
          "10411.7",
          "10425.0",
          "10430.5"
         ]
        },
        {
         "line": {
          "color": "blue"
         },
         "mode": "lines",
         "name": "data/geology/Grt-Gr_domplt.plt - 0.2",
         "showlegend": false,
         "type": "scatter",
         "x": [
          "750.95",
          "751.56",
          "751.63",
          "753.75",
          "754.50",
          "760.24",
          "762.50",
          "771.46",
          "780.00",
          "793.47",
          "835.30"
         ],
         "y": [
          "10437.5",
          "10449.2",
          "10450.0",
          "10486.7",
          "10500.0",
          "10600.0",
          "10641.4",
          "10800.0",
          "10953.9",
          "11200.0",
          "12000.0"
         ]
        },
        {
         "line": {
          "color": "blue"
         },
         "mode": "lines",
         "name": "data/geology/Grt-Gr_domplt.plt - 0.2",
         "showlegend": false,
         "type": "scatter",
         "x": [
          "567.81",
          "568.91",
          "570.00",
          "574.38",
          "576.56",
          "577.66"
         ],
         "y": [
          "7607.0",
          "7607.0",
          "7607.0",
          "7607.0",
          "7607.0",
          "7607.0"
         ]
        },
        {
         "line": {
          "color": "blue"
         },
         "mode": "lines",
         "name": "data/geology/Grt-Gr_domplt.plt - 0.2",
         "showlegend": false,
         "type": "scatter",
         "x": [
          "595.16",
          "594.40",
          "594.06",
          "591.88",
          "589.76",
          "587.50",
          "580.05",
          "579.84"
         ],
         "y": [
          "7521.1",
          "7525.0",
          "7527.3",
          "7538.3",
          "7550.0",
          "7561.7",
          "7600.0",
          "7600.8"
         ]
        },
        {
         "line": {
          "color": "blue"
         },
         "mode": "lines",
         "name": "data/geology/Grt-Gr_domplt.plt - 0.2",
         "showlegend": false,
         "type": "scatter",
         "x": [
          "598.10",
          "596.46",
          "596.25",
          "596.04"
         ],
         "y": [
          "7450.0",
          "7500.0",
          "7508.6",
          "7512.5"
         ]
        },
        {
         "line": {
          "color": "blue"
         },
         "mode": "lines",
         "name": "data/geology/Grt-Gr_domplt.plt - 0.2",
         "showlegend": false,
         "type": "scatter",
         "x": [
          "578.75"
         ],
         "y": [
          "7607.0"
         ]
        },
        {
         "line": {
          "color": "blue"
         },
         "mode": "lines",
         "name": "data/geology/Grt-Gr_domplt.plt - 0.2",
         "showlegend": false,
         "type": "scatter",
         "x": [
          "679.31",
          "679.38",
          "680.47"
         ],
         "y": [
          "5587.5",
          "5586.7",
          "5580.5"
         ]
        },
        {
         "line": {
          "color": "blue"
         },
         "mode": "lines",
         "name": "data/geology/Grt-Gr_domplt.plt - 0.2",
         "showlegend": false,
         "type": "scatter",
         "x": [
          "599.60",
          "599.53",
          "598.64",
          "598.44"
         ],
         "y": [
          "7425.0",
          "7425.8",
          "7437.5",
          "7439.8"
         ]
        },
        {
         "line": {
          "color": "blue"
         },
         "mode": "lines",
         "name": "data/geology/Grt-Gr_domplt.plt - 0.2",
         "showlegend": false,
         "type": "scatter",
         "x": [
          "567.81"
         ],
         "y": [
          "7608.6"
         ]
        },
        {
         "marker": {
          "color": "blue",
          "size": 10
         },
         "mode": "markers",
         "name": "data/geology/Grt-Gr_domplt.plt - 0.2",
         "showlegend": true,
         "type": "scatter",
         "x": [
          null
         ],
         "y": [
          null
         ]
        },
        {
         "line": {
          "color": "green"
         },
         "mode": "lines",
         "name": "data/geology/Grt-Py_domplt.plt - 0.3",
         "showlegend": false,
         "type": "scatter",
         "x": [
          "771.59",
          "771.25",
          "770.91",
          "766.12",
          "762.50",
          "761.75",
          "746.71",
          "745.00",
          "743.29",
          "741.65",
          "741.24"
         ],
         "y": [
          "6587.5",
          "6593.0",
          "6600.0",
          "6700.0",
          "6782.0",
          "6800.0",
          "7200.0",
          "7249.2",
          "7300.0",
          "7350.0",
          "7362.5"
         ]
        },
        {
         "line": {
          "color": "green"
         },
         "mode": "lines",
         "name": "data/geology/Grt-Py_domplt.plt - 0.3",
         "showlegend": false,
         "type": "scatter",
         "x": [
          "740.83",
          "740.62",
          "740.42",
          "736.87",
          "727.98",
          "715.95",
          "710.00",
          "708.15",
          "707.81",
          "707.20"
         ],
         "y": [
          "7375.0",
          "7391.4",
          "7400.0",
          "7600.0",
          "8000.0",
          "8400.0",
          "8557.0",
          "8600.0",
          "8608.6",
          "8625.0"
         ]
        },
        {
         "line": {
          "color": "green"
         },
         "mode": "lines",
         "name": "data/geology/Grt-Py_domplt.plt - 0.3",
         "showlegend": false,
         "type": "scatter",
         "x": [
          "670.01",
          "670.42",
          "670.62",
          "670.97",
          "675.00",
          "676.57",
          "676.85"
         ],
         "y": [
          "8562.5",
          "8575.0",
          "8585.2",
          "8600.0",
          "8744.5",
          "8800.0",
          "8812.5"
         ]
        },
        {
         "line": {
          "color": "green"
         },
         "mode": "lines",
         "name": "data/geology/Grt-Py_domplt.plt - 0.3",
         "showlegend": false,
         "type": "scatter",
         "x": [
          "677.26",
          "678.62",
          "679.38",
          "681.36",
          "683.75",
          "686.69",
          "692.50",
          "697.35",
          "710.00",
          "718.00",
          "737.96",
          "738.44",
          "739.19",
          "739.53",
          "739.87"
         ],
         "y": [
          "8825.0",
          "8850.0",
          "8863.3",
          "8900.0",
          "8944.5",
          "9000.0",
          "9108.6",
          "9200.0",
          "9443.0",
          "9600.0",
          "10000.0",
          "10008.6",
          "10025.0",
          "10030.5",
          "10037.5"
         ]
        },
        {
         "line": {
          "color": "green"
         },
         "mode": "lines",
         "name": "data/geology/Grt-Py_domplt.plt - 0.3",
         "showlegend": false,
         "type": "scatter",
         "x": [
          "740.62",
          "742.88",
          "745.00",
          "757.51",
          "780.00",
          "794.42",
          "829.01"
         ],
         "y": [
          "10052.3",
          "10100.0",
          "10141.4",
          "10400.0",
          "10880.5",
          "11200.0",
          "12000.0"
         ]
        },
        {
         "line": {
          "color": "green"
         },
         "mode": "lines",
         "name": "data/geology/Grt-Py_domplt.plt - 0.3",
         "showlegend": false,
         "type": "scatter",
         "x": [
          "670.62",
          "675.00",
          "679.31",
          "692.50",
          "699.54",
          "701.25",
          "701.87",
          "702.34"
         ],
         "y": [
          "8560.2",
          "8580.5",
          "8600.0",
          "8663.3",
          "8700.0",
          "8708.6",
          "8712.5",
          "8714.8"
         ]
        },
        {
         "line": {
          "color": "green"
         },
         "mode": "lines",
         "name": "data/geology/Grt-Py_domplt.plt - 0.3",
         "showlegend": false,
         "type": "scatter",
         "x": [
          "706.72",
          "706.65",
          "706.10",
          "705.62",
          "703.78",
          "703.44",
          "703.23"
         ],
         "y": [
          "8635.2",
          "8637.5",
          "8650.0",
          "8660.2",
          "8700.0",
          "8707.0",
          "8712.5"
         ]
        },
        {
         "line": {
          "color": "green"
         },
         "mode": "lines",
         "name": "data/geology/Grt-Py_domplt.plt - 0.3",
         "showlegend": false,
         "type": "scatter",
         "x": [
          "740.42"
         ],
         "y": [
          "10050.0"
         ]
        },
        {
         "line": {
          "color": "green"
         },
         "mode": "lines",
         "name": "data/geology/Grt-Py_domplt.plt - 0.3",
         "showlegend": false,
         "type": "scatter",
         "x": [
          "677.19"
         ],
         "y": [
          "8822.7"
         ]
        },
        {
         "marker": {
          "color": "green",
          "size": 10
         },
         "mode": "markers",
         "name": "data/geology/Grt-Py_domplt.plt - 0.3",
         "showlegend": true,
         "type": "scatter",
         "x": [
          null
         ],
         "y": [
          null
         ]
        },
        {
         "line": {
          "color": "gray"
         },
         "mode": "lines",
         "name": "data/geology/Grt-Py_domplt.plt - 0",
         "showlegend": false,
         "type": "scatter",
         "x": [
          "542.86",
          "543.75",
          "551.47",
          "552.50",
          "553.66",
          "554.69",
          "554.76"
         ],
         "y": [
          "4000.0",
          "4010.2",
          "4100.0",
          "4111.7",
          "4125.0",
          "4136.7",
          "4137.5"
         ]
        },
        {
         "line": {
          "color": "gray"
         },
         "mode": "lines",
         "name": "data/geology/Grt-Py_domplt.plt - 0",
         "showlegend": false,
         "type": "scatter",
         "x": [
          "555.78",
          "555.85",
          "556.88",
          "560.09",
          "570.00",
          "612.45",
          "640.00",
          "647.59",
          "648.75",
          "652.10",
          "653.12",
          "653.19"
         ],
         "y": [
          "4149.2",
          "4150.0",
          "4163.3",
          "4200.0",
          "4313.3",
          "4800.0",
          "5113.3",
          "5200.0",
          "5211.7",
          "5250.0",
          "5261.7",
          "5262.5"
         ]
        },
        {
         "line": {
          "color": "gray"
         },
         "mode": "lines",
         "name": "data/geology/Grt-Py_domplt.plt - 0",
         "showlegend": false,
         "type": "scatter",
         "x": [
          "654.22",
          "654.29",
          "655.31",
          "656.47",
          "657.50",
          "665.36",
          "675.00",
          "683.13",
          "710.00",
          "718.96",
          "727.50",
          "727.98",
          "729.69",
          "730.17"
         ],
         "y": [
          "5274.2",
          "5275.0",
          "5286.7",
          "5300.0",
          "5311.7",
          "5400.0",
          "5508.6",
          "5600.0",
          "5900.8",
          "6000.0",
          "6094.5",
          "6100.0",
          "6119.5",
          "6125.0"
         ]
        },
        {
         "line": {
          "color": "gray"
         },
         "mode": "lines",
         "name": "data/geology/Grt-Py_domplt.plt - 0",
         "showlegend": false,
         "type": "scatter",
         "x": [
          "730.78",
          "731.26",
          "731.88",
          "732.49",
          "736.25",
          "737.00",
          "745.00",
          "755.32",
          "762.50",
          "764.62",
          "771.25",
          "771.46"
         ],
         "y": [
          "6132.0",
          "6137.5",
          "6143.0",
          "6150.0",
          "6191.4",
          "6200.0",
          "6286.7",
          "6400.0",
          "6477.3",
          "6500.0",
          "6572.7",
          "6575.0"
         ]
        },
        {
         "line": {
          "color": "gray"
         },
         "mode": "lines",
         "name": "data/geology/Grt-Py_domplt.plt - 0",
         "showlegend": false,
         "type": "scatter",
         "x": [
          "782.19",
          "782.94",
          "788.75",
          "791.14",
          "815.00",
          "824.23",
          "850.00",
          "891.63",
          "902.50",
          "904.35",
          "906.88",
          "907.63",
          "907.97"
         ],
         "y": [
          "6691.4",
          "6700.0",
          "6771.1",
          "6800.0",
          "7089.8",
          "7200.0",
          "7508.6",
          "8000.0",
          "8127.3",
          "8150.0",
          "8178.9",
          "8187.5",
          "8191.4"
         ]
        },
        {
         "line": {
          "color": "gray"
         },
         "mode": "lines",
         "name": "data/geology/Grt-Py_domplt.plt - 0",
         "showlegend": false,
         "type": "scatter",
         "x": [
          "908.58",
          "918.97",
          "920.00",
          "939.48",
          "941.88",
          "942.08"
         ],
         "y": [
          "8200.0",
          "8400.0",
          "8421.1",
          "8800.0",
          "8844.5",
          "8850.0"
         ]
        },
        {
         "line": {
          "color": "gray"
         },
         "mode": "lines",
         "name": "data/geology/Grt-Py_domplt.plt - 0",
         "showlegend": false,
         "type": "scatter",
         "x": [
          "942.76",
          "942.97",
          "943.45",
          "944.06",
          "944.68",
          "946.25",
          "949.87",
          "955.00",
          "960.13",
          "980.91",
          "990.00",
          "1001.55",
          "1007.50",
          "1009.21",
          "1009.69"
         ],
         "y": [
          "8862.5",
          "8866.4",
          "8875.0",
          "8888.3",
          "8900.0",
          "8930.5",
          "9000.0",
          "9099.2",
          "9200.0",
          "9600.0",
          "9777.3",
          "10000.0",
          "10116.4",
          "10150.0",
          "10158.6"
         ]
        },
        {
         "line": {
          "color": "gray"
         },
         "mode": "lines",
         "name": "data/geology/Grt-Py_domplt.plt - 0",
         "showlegend": false,
         "type": "scatter",
         "x": [
          "1029.03",
          "1029.38",
          "1029.85",
          "1033.27",
          "1042.50",
          "1046.40",
          "1051.25",
          "1052.69",
          "1055.62"
         ],
         "y": [
          "10337.5",
          "10343.0",
          "10350.0",
          "10400.0",
          "10539.8",
          "10600.0",
          "10677.3",
          "10700.0",
          "10747.7"
         ]
        },
        {
         "line": {
          "color": "gray"
         },
         "mode": "lines",
         "name": "data/geology/Grt-Py_domplt.plt - 0",
         "showlegend": false,
         "type": "scatter",
         "x": [
          "1082.22",
          "1082.76",
          "1086.18",
          "1086.25",
          "1087.96",
          "1088.44",
          "1088.78",
          "1089.19"
         ],
         "y": [
          "11187.5",
          "11200.0",
          "11300.0",
          "11302.3",
          "11350.0",
          "11364.8",
          "11375.0",
          "11387.5"
         ]
        },
        {
         "line": {
          "color": "gray"
         },
         "mode": "lines",
         "name": "data/geology/Grt-Py_domplt.plt - 0",
         "showlegend": false,
         "type": "scatter",
         "x": [
          "1089.53",
          "1089.74",
          "1095.00",
          "1096.71",
          "1110.93"
         ],
         "y": [
          "11396.1",
          "11400.0",
          "11552.3",
          "11600.0",
          "12000.0"
         ]
        },
        {
         "line": {
          "color": "gray"
         },
         "mode": "lines",
         "name": "data/geology/Grt-Py_domplt.plt - 0",
         "showlegend": false,
         "type": "scatter",
         "x": [
          "779.52",
          "780.00"
         ],
         "y": [
          "6662.5",
          "6668.0"
         ]
        },
        {
         "line": {
          "color": "gray"
         },
         "mode": "lines",
         "name": "data/geology/Grt-Py_domplt.plt - 0",
         "showlegend": false,
         "type": "scatter",
         "x": [
          "1055.83",
          "1058.84",
          "1060.00",
          "1071.14",
          "1077.50",
          "1080.17",
          "1081.88"
         ],
         "y": [
          "10750.0",
          "10800.0",
          "10818.0",
          "11000.0",
          "11105.5",
          "11150.0",
          "11178.9"
         ]
        },
        {
         "line": {
          "color": "gray"
         },
         "mode": "lines",
         "name": "data/geology/Grt-Py_domplt.plt - 0",
         "showlegend": false,
         "type": "scatter",
         "x": [
          "1010.78",
          "1011.88",
          "1016.25",
          "1018.23",
          "1025.00",
          "1026.30",
          "1027.19",
          "1028.08",
          "1028.28"
         ],
         "y": [
          "10153.9",
          "10155.5",
          "10180.5",
          "10200.0",
          "10282.0",
          "10300.0",
          "10311.7",
          "10325.0",
          "10327.3"
         ]
        },
        {
         "line": {
          "color": "gray"
         },
         "mode": "lines",
         "name": "data/geology/Grt-Py_domplt.plt - 0",
         "showlegend": false,
         "type": "scatter",
         "x": [
          "772.34",
          "772.69",
          "773.44",
          "773.78",
          "775.62",
          "778.43",
          "778.91"
         ],
         "y": [
          "6583.6",
          "6587.5",
          "6596.1",
          "6600.0",
          "6619.5",
          "6650.0",
          "6655.5"
         ]
        },
        {
         "line": {
          "color": "gray"
         },
         "mode": "lines",
         "name": "data/geology/Grt-Py_domplt.plt - 0",
         "showlegend": false,
         "type": "scatter",
         "x": [
          "780.75"
         ],
         "y": [
          "6675.0"
         ]
        },
        {
         "line": {
          "color": "gray"
         },
         "mode": "lines",
         "name": "data/geology/Grt-Py_domplt.plt - 0",
         "showlegend": false,
         "type": "scatter",
         "x": [
          "781.09",
          "781.85"
         ],
         "y": [
          "6678.9",
          "6687.5"
         ]
        },
        {
         "marker": {
          "color": "gray",
          "size": 10
         },
         "mode": "markers",
         "name": "data/geology/Grt-Py_domplt.plt - 0",
         "showlegend": true,
         "type": "scatter",
         "x": [
          null
         ],
         "y": [
          null
         ]
        }
       ],
       "layout": {
        "autosize": false,
        "height": 700,
        "template": {
         "data": {
          "bar": [
           {
            "error_x": {
             "color": "#2a3f5f"
            },
            "error_y": {
             "color": "#2a3f5f"
            },
            "marker": {
             "line": {
              "color": "#E5ECF6",
              "width": 0.5
             }
            },
            "type": "bar"
           }
          ],
          "barpolar": [
           {
            "marker": {
             "line": {
              "color": "#E5ECF6",
              "width": 0.5
             }
            },
            "type": "barpolar"
           }
          ],
          "carpet": [
           {
            "aaxis": {
             "endlinecolor": "#2a3f5f",
             "gridcolor": "white",
             "linecolor": "white",
             "minorgridcolor": "white",
             "startlinecolor": "#2a3f5f"
            },
            "baxis": {
             "endlinecolor": "#2a3f5f",
             "gridcolor": "white",
             "linecolor": "white",
             "minorgridcolor": "white",
             "startlinecolor": "#2a3f5f"
            },
            "type": "carpet"
           }
          ],
          "choropleth": [
           {
            "colorbar": {
             "outlinewidth": 0,
             "ticks": ""
            },
            "type": "choropleth"
           }
          ],
          "contour": [
           {
            "colorbar": {
             "outlinewidth": 0,
             "ticks": ""
            },
            "colorscale": [
             [
              0,
              "#0d0887"
             ],
             [
              0.1111111111111111,
              "#46039f"
             ],
             [
              0.2222222222222222,
              "#7201a8"
             ],
             [
              0.3333333333333333,
              "#9c179e"
             ],
             [
              0.4444444444444444,
              "#bd3786"
             ],
             [
              0.5555555555555556,
              "#d8576b"
             ],
             [
              0.6666666666666666,
              "#ed7953"
             ],
             [
              0.7777777777777778,
              "#fb9f3a"
             ],
             [
              0.8888888888888888,
              "#fdca26"
             ],
             [
              1,
              "#f0f921"
             ]
            ],
            "type": "contour"
           }
          ],
          "contourcarpet": [
           {
            "colorbar": {
             "outlinewidth": 0,
             "ticks": ""
            },
            "type": "contourcarpet"
           }
          ],
          "heatmap": [
           {
            "colorbar": {
             "outlinewidth": 0,
             "ticks": ""
            },
            "colorscale": [
             [
              0,
              "#0d0887"
             ],
             [
              0.1111111111111111,
              "#46039f"
             ],
             [
              0.2222222222222222,
              "#7201a8"
             ],
             [
              0.3333333333333333,
              "#9c179e"
             ],
             [
              0.4444444444444444,
              "#bd3786"
             ],
             [
              0.5555555555555556,
              "#d8576b"
             ],
             [
              0.6666666666666666,
              "#ed7953"
             ],
             [
              0.7777777777777778,
              "#fb9f3a"
             ],
             [
              0.8888888888888888,
              "#fdca26"
             ],
             [
              1,
              "#f0f921"
             ]
            ],
            "type": "heatmap"
           }
          ],
          "heatmapgl": [
           {
            "colorbar": {
             "outlinewidth": 0,
             "ticks": ""
            },
            "colorscale": [
             [
              0,
              "#0d0887"
             ],
             [
              0.1111111111111111,
              "#46039f"
             ],
             [
              0.2222222222222222,
              "#7201a8"
             ],
             [
              0.3333333333333333,
              "#9c179e"
             ],
             [
              0.4444444444444444,
              "#bd3786"
             ],
             [
              0.5555555555555556,
              "#d8576b"
             ],
             [
              0.6666666666666666,
              "#ed7953"
             ],
             [
              0.7777777777777778,
              "#fb9f3a"
             ],
             [
              0.8888888888888888,
              "#fdca26"
             ],
             [
              1,
              "#f0f921"
             ]
            ],
            "type": "heatmapgl"
           }
          ],
          "histogram": [
           {
            "marker": {
             "colorbar": {
              "outlinewidth": 0,
              "ticks": ""
             }
            },
            "type": "histogram"
           }
          ],
          "histogram2d": [
           {
            "colorbar": {
             "outlinewidth": 0,
             "ticks": ""
            },
            "colorscale": [
             [
              0,
              "#0d0887"
             ],
             [
              0.1111111111111111,
              "#46039f"
             ],
             [
              0.2222222222222222,
              "#7201a8"
             ],
             [
              0.3333333333333333,
              "#9c179e"
             ],
             [
              0.4444444444444444,
              "#bd3786"
             ],
             [
              0.5555555555555556,
              "#d8576b"
             ],
             [
              0.6666666666666666,
              "#ed7953"
             ],
             [
              0.7777777777777778,
              "#fb9f3a"
             ],
             [
              0.8888888888888888,
              "#fdca26"
             ],
             [
              1,
              "#f0f921"
             ]
            ],
            "type": "histogram2d"
           }
          ],
          "histogram2dcontour": [
           {
            "colorbar": {
             "outlinewidth": 0,
             "ticks": ""
            },
            "colorscale": [
             [
              0,
              "#0d0887"
             ],
             [
              0.1111111111111111,
              "#46039f"
             ],
             [
              0.2222222222222222,
              "#7201a8"
             ],
             [
              0.3333333333333333,
              "#9c179e"
             ],
             [
              0.4444444444444444,
              "#bd3786"
             ],
             [
              0.5555555555555556,
              "#d8576b"
             ],
             [
              0.6666666666666666,
              "#ed7953"
             ],
             [
              0.7777777777777778,
              "#fb9f3a"
             ],
             [
              0.8888888888888888,
              "#fdca26"
             ],
             [
              1,
              "#f0f921"
             ]
            ],
            "type": "histogram2dcontour"
           }
          ],
          "mesh3d": [
           {
            "colorbar": {
             "outlinewidth": 0,
             "ticks": ""
            },
            "type": "mesh3d"
           }
          ],
          "parcoords": [
           {
            "line": {
             "colorbar": {
              "outlinewidth": 0,
              "ticks": ""
             }
            },
            "type": "parcoords"
           }
          ],
          "pie": [
           {
            "automargin": true,
            "type": "pie"
           }
          ],
          "scatter": [
           {
            "marker": {
             "colorbar": {
              "outlinewidth": 0,
              "ticks": ""
             }
            },
            "type": "scatter"
           }
          ],
          "scatter3d": [
           {
            "line": {
             "colorbar": {
              "outlinewidth": 0,
              "ticks": ""
             }
            },
            "marker": {
             "colorbar": {
              "outlinewidth": 0,
              "ticks": ""
             }
            },
            "type": "scatter3d"
           }
          ],
          "scattercarpet": [
           {
            "marker": {
             "colorbar": {
              "outlinewidth": 0,
              "ticks": ""
             }
            },
            "type": "scattercarpet"
           }
          ],
          "scattergeo": [
           {
            "marker": {
             "colorbar": {
              "outlinewidth": 0,
              "ticks": ""
             }
            },
            "type": "scattergeo"
           }
          ],
          "scattergl": [
           {
            "marker": {
             "colorbar": {
              "outlinewidth": 0,
              "ticks": ""
             }
            },
            "type": "scattergl"
           }
          ],
          "scattermapbox": [
           {
            "marker": {
             "colorbar": {
              "outlinewidth": 0,
              "ticks": ""
             }
            },
            "type": "scattermapbox"
           }
          ],
          "scatterpolar": [
           {
            "marker": {
             "colorbar": {
              "outlinewidth": 0,
              "ticks": ""
             }
            },
            "type": "scatterpolar"
           }
          ],
          "scatterpolargl": [
           {
            "marker": {
             "colorbar": {
              "outlinewidth": 0,
              "ticks": ""
             }
            },
            "type": "scatterpolargl"
           }
          ],
          "scatterternary": [
           {
            "marker": {
             "colorbar": {
              "outlinewidth": 0,
              "ticks": ""
             }
            },
            "type": "scatterternary"
           }
          ],
          "surface": [
           {
            "colorbar": {
             "outlinewidth": 0,
             "ticks": ""
            },
            "colorscale": [
             [
              0,
              "#0d0887"
             ],
             [
              0.1111111111111111,
              "#46039f"
             ],
             [
              0.2222222222222222,
              "#7201a8"
             ],
             [
              0.3333333333333333,
              "#9c179e"
             ],
             [
              0.4444444444444444,
              "#bd3786"
             ],
             [
              0.5555555555555556,
              "#d8576b"
             ],
             [
              0.6666666666666666,
              "#ed7953"
             ],
             [
              0.7777777777777778,
              "#fb9f3a"
             ],
             [
              0.8888888888888888,
              "#fdca26"
             ],
             [
              1,
              "#f0f921"
             ]
            ],
            "type": "surface"
           }
          ],
          "table": [
           {
            "cells": {
             "fill": {
              "color": "#EBF0F8"
             },
             "line": {
              "color": "white"
             }
            },
            "header": {
             "fill": {
              "color": "#C8D4E3"
             },
             "line": {
              "color": "white"
             }
            },
            "type": "table"
           }
          ]
         },
         "layout": {
          "annotationdefaults": {
           "arrowcolor": "#2a3f5f",
           "arrowhead": 0,
           "arrowwidth": 1
          },
          "coloraxis": {
           "colorbar": {
            "outlinewidth": 0,
            "ticks": ""
           }
          },
          "colorscale": {
           "diverging": [
            [
             0,
             "#8e0152"
            ],
            [
             0.1,
             "#c51b7d"
            ],
            [
             0.2,
             "#de77ae"
            ],
            [
             0.3,
             "#f1b6da"
            ],
            [
             0.4,
             "#fde0ef"
            ],
            [
             0.5,
             "#f7f7f7"
            ],
            [
             0.6,
             "#e6f5d0"
            ],
            [
             0.7,
             "#b8e186"
            ],
            [
             0.8,
             "#7fbc41"
            ],
            [
             0.9,
             "#4d9221"
            ],
            [
             1,
             "#276419"
            ]
           ],
           "sequential": [
            [
             0,
             "#0d0887"
            ],
            [
             0.1111111111111111,
             "#46039f"
            ],
            [
             0.2222222222222222,
             "#7201a8"
            ],
            [
             0.3333333333333333,
             "#9c179e"
            ],
            [
             0.4444444444444444,
             "#bd3786"
            ],
            [
             0.5555555555555556,
             "#d8576b"
            ],
            [
             0.6666666666666666,
             "#ed7953"
            ],
            [
             0.7777777777777778,
             "#fb9f3a"
            ],
            [
             0.8888888888888888,
             "#fdca26"
            ],
            [
             1,
             "#f0f921"
            ]
           ],
           "sequentialminus": [
            [
             0,
             "#0d0887"
            ],
            [
             0.1111111111111111,
             "#46039f"
            ],
            [
             0.2222222222222222,
             "#7201a8"
            ],
            [
             0.3333333333333333,
             "#9c179e"
            ],
            [
             0.4444444444444444,
             "#bd3786"
            ],
            [
             0.5555555555555556,
             "#d8576b"
            ],
            [
             0.6666666666666666,
             "#ed7953"
            ],
            [
             0.7777777777777778,
             "#fb9f3a"
            ],
            [
             0.8888888888888888,
             "#fdca26"
            ],
            [
             1,
             "#f0f921"
            ]
           ]
          },
          "colorway": [
           "#636efa",
           "#EF553B",
           "#00cc96",
           "#ab63fa",
           "#FFA15A",
           "#19d3f3",
           "#FF6692",
           "#B6E880",
           "#FF97FF",
           "#FECB52"
          ],
          "font": {
           "color": "#2a3f5f"
          },
          "geo": {
           "bgcolor": "white",
           "lakecolor": "white",
           "landcolor": "#E5ECF6",
           "showlakes": true,
           "showland": true,
           "subunitcolor": "white"
          },
          "hoverlabel": {
           "align": "left"
          },
          "hovermode": "closest",
          "mapbox": {
           "style": "light"
          },
          "paper_bgcolor": "white",
          "plot_bgcolor": "#E5ECF6",
          "polar": {
           "angularaxis": {
            "gridcolor": "white",
            "linecolor": "white",
            "ticks": ""
           },
           "bgcolor": "#E5ECF6",
           "radialaxis": {
            "gridcolor": "white",
            "linecolor": "white",
            "ticks": ""
           }
          },
          "scene": {
           "xaxis": {
            "backgroundcolor": "#E5ECF6",
            "gridcolor": "white",
            "gridwidth": 2,
            "linecolor": "white",
            "showbackground": true,
            "ticks": "",
            "zerolinecolor": "white"
           },
           "yaxis": {
            "backgroundcolor": "#E5ECF6",
            "gridcolor": "white",
            "gridwidth": 2,
            "linecolor": "white",
            "showbackground": true,
            "ticks": "",
            "zerolinecolor": "white"
           },
           "zaxis": {
            "backgroundcolor": "#E5ECF6",
            "gridcolor": "white",
            "gridwidth": 2,
            "linecolor": "white",
            "showbackground": true,
            "ticks": "",
            "zerolinecolor": "white"
           }
          },
          "shapedefaults": {
           "line": {
            "color": "#2a3f5f"
           }
          },
          "ternary": {
           "aaxis": {
            "gridcolor": "white",
            "linecolor": "white",
            "ticks": ""
           },
           "baxis": {
            "gridcolor": "white",
            "linecolor": "white",
            "ticks": ""
           },
           "bgcolor": "#E5ECF6",
           "caxis": {
            "gridcolor": "white",
            "linecolor": "white",
            "ticks": ""
           }
          },
          "title": {
           "x": 0.05
          },
          "xaxis": {
           "automargin": true,
           "gridcolor": "white",
           "linecolor": "white",
           "ticks": "",
           "title": {
            "standoff": 15
           },
           "zerolinecolor": "white",
           "zerolinewidth": 2
          },
          "yaxis": {
           "automargin": true,
           "gridcolor": "white",
           "linecolor": "white",
           "ticks": "",
           "title": {
            "standoff": 15
           },
           "zerolinecolor": "white",
           "zerolinewidth": 2
          }
         }
        },
        "width": 900,
        "xaxis": {
         "range": [
          500,
          1200
         ],
         "title": {
          "text": "Temperature"
         }
        },
        "yaxis": {
         "range": [
          4000,
          12000
         ],
         "title": {
          "text": "Pressure"
         }
        }
       }
      },
      "text/html": [
       "<div>\n",
       "        \n",
       "        \n",
       "            <div id=\"f4eae81e-4e30-4294-ab27-b8ee986428a0\" class=\"plotly-graph-div\" style=\"height:700px; width:900px;\"></div>\n",
       "            <script type=\"text/javascript\">\n",
       "                require([\"plotly\"], function(Plotly) {\n",
       "                    window.PLOTLYENV=window.PLOTLYENV || {};\n",
       "                    \n",
       "                if (document.getElementById(\"f4eae81e-4e30-4294-ab27-b8ee986428a0\")) {\n",
       "                    Plotly.newPlot(\n",
       "                        'f4eae81e-4e30-4294-ab27-b8ee986428a0',\n",
       "                        [{\"line\": {\"color\": \"red\"}, \"mode\": \"lines\", \"name\": \"data/geology/Grt-Alm_domplt.plt - 0.5\", \"showlegend\": false, \"type\": \"scatter\", \"x\": [\"905.85\", \"905.78\", \"905.58\", \"902.50\", \"901.47\", \"892.18\", \"885.00\", \"880.15\", \"864.70\", \"850.00\", \"844.46\", \"832.50\", \"831.61\", \"831.41\"], \"y\": [\"8187.5\", \"8188.3\", \"8200.0\", \"8353.9\", \"8400.0\", \"8800.0\", \"9050.8\", \"9200.0\", \"9600.0\", \"9900.8\", \"10000.0\", \"10186.7\", \"10200.0\", \"10202.3\"]}, {\"line\": {\"color\": \"red\"}, \"mode\": \"lines\", \"name\": \"data/geology/Grt-Alm_domplt.plt - 0.5\", \"showlegend\": false, \"type\": \"scatter\", \"x\": [\"558.17\", \"558.17\", \"558.17\", \"558.17\"], \"y\": [\"10375.0\", \"10400.0\", \"10450.0\", \"10475.0\"]}, {\"line\": {\"color\": \"red\"}, \"mode\": \"lines\", \"name\": \"data/geology/Grt-Alm_domplt.plt - 0.5\", \"showlegend\": false, \"type\": \"scatter\", \"x\": [\"550.31\", \"551.06\", \"552.50\", \"570.00\", \"603.15\", \"640.00\", \"710.00\", \"715.95\", \"745.00\", \"765.03\", \"771.25\", \"776.79\", \"780.00\", \"782.80\", \"784.38\", \"787.45\", \"788.75\", \"788.82\"], \"y\": [\"10044.5\", \"10050.0\", \"10060.2\", \"10178.9\", \"10400.0\", \"10649.2\", \"11153.9\", \"11200.0\", \"11433.6\", \"11600.0\", \"11652.3\", \"11700.0\", \"11727.3\", \"11750.0\", \"11763.3\", \"11750.0\", \"11700.8\", \"11700.0\"]}, {\"line\": {\"color\": \"red\"}, \"mode\": \"lines\", \"name\": \"data/geology/Grt-Alm_domplt.plt - 0.5\", \"showlegend\": false, \"type\": \"scatter\", \"x\": [\"763.39\", \"767.08\", \"780.00\", \"780.48\", \"786.49\", \"791.83\", \"796.20\", \"797.50\", \"799.07\", \"799.35\", \"797.50\", \"794.01\", \"793.12\", \"791.28\", \"790.94\", \"789.91\", \"789.84\", \"789.37\"], \"y\": [\"9900.0\", \"10000.0\", \"10383.6\", \"10400.0\", \"10600.0\", \"10800.0\", \"11000.0\", \"11078.9\", \"11200.0\", \"11400.0\", \"11510.2\", \"11600.0\", \"11616.4\", \"11650.0\", \"11655.5\", \"11675.0\", \"11675.8\", \"11687.5\"]}, {\"line\": {\"color\": \"red\"}, \"mode\": \"lines\", \"name\": \"data/geology/Grt-Alm_domplt.plt - 0.5\", \"showlegend\": false, \"type\": \"scatter\", \"x\": [\"558.17\", \"557.35\", \"555.71\", \"552.43\", \"550.79\", \"550.65\", \"550.52\"], \"y\": [\"10500.0\", \"10600.0\", \"10800.0\", \"11200.0\", \"11400.0\", \"11425.0\", \"11437.5\"]}, {\"line\": {\"color\": \"red\"}, \"mode\": \"lines\", \"name\": \"data/geology/Grt-Alm_domplt.plt - 0.5\", \"showlegend\": false, \"type\": \"scatter\", \"x\": [\"549.29\", \"549.22\", \"549.15\", \"549.01\", \"548.47\", \"545.05\"], \"y\": [\"11512.5\", \"11522.7\", \"11525.0\", \"11550.0\", \"11600.0\", \"12000.0\"]}, {\"line\": {\"color\": \"red\"}, \"mode\": \"lines\", \"name\": \"data/geology/Grt-Alm_domplt.plt - 0.5\", \"showlegend\": false, \"type\": \"scatter\", \"x\": [\"763.59\", \"764.69\", \"765.99\", \"771.25\", \"780.00\", \"797.50\", \"801.88\", \"802.97\"], \"y\": [\"9891.4\", \"9894.5\", \"9900.0\", \"9918.0\", \"9946.1\", \"9986.7\", \"9994.5\", \"9996.1\"]}, {\"line\": {\"color\": \"red\"}, \"mode\": \"lines\", \"name\": \"data/geology/Grt-Alm_domplt.plt - 0.5\", \"showlegend\": false, \"type\": \"scatter\", \"x\": [\"804.06\", \"804.27\"], \"y\": [\"9997.7\", \"10000.0\"]}, {\"line\": {\"color\": \"red\"}, \"mode\": \"lines\", \"name\": \"data/geology/Grt-Alm_domplt.plt - 0.5\", \"showlegend\": false, \"type\": \"scatter\", \"x\": [\"805.16\", \"805.91\", \"806.25\", \"815.00\", \"829.56\", \"830.31\"], \"y\": [\"10007.0\", \"10012.5\", \"10014.8\", \"10085.2\", \"10200.0\", \"10205.5\"]}, {\"line\": {\"color\": \"red\"}, \"mode\": \"lines\", \"name\": \"data/geology/Grt-Alm_domplt.plt - 0.5\", \"showlegend\": false, \"type\": \"scatter\", \"x\": [\"550.11\", \"551.34\", \"552.50\", \"553.80\", \"556.26\", \"556.88\", \"557.63\", \"557.90\", \"557.97\"], \"y\": [\"10050.0\", \"10100.0\", \"10149.2\", \"10200.0\", \"10300.0\", \"10322.7\", \"10350.0\", \"10362.5\", \"10364.8\"]}, {\"line\": {\"color\": \"red\"}, \"mode\": \"lines\", \"name\": \"data/geology/Grt-Alm_domplt.plt - 0.5\", \"showlegend\": false, \"type\": \"scatter\", \"x\": [\"549.42\"], \"y\": [\"11500.0\"]}, {\"line\": {\"color\": \"red\"}, \"mode\": \"lines\", \"name\": \"data/geology/Grt-Alm_domplt.plt - 0.5\", \"showlegend\": false, \"type\": \"scatter\", \"x\": [\"550.38\", \"550.31\", \"549.97\", \"549.70\"], \"y\": [\"11450.0\", \"11453.9\", \"11475.0\", \"11487.5\"]}, {\"line\": {\"color\": \"red\"}, \"mode\": \"lines\", \"name\": \"data/geology/Grt-Alm_domplt.plt - 0.5\", \"showlegend\": false, \"type\": \"scatter\", \"x\": [\"906.12\"], \"y\": [\"8175.0\"]}, {\"line\": {\"color\": \"red\"}, \"mode\": \"lines\", \"name\": \"data/geology/Grt-Alm_domplt.plt - 0.5\", \"showlegend\": false, \"type\": \"scatter\", \"x\": [\"558.17\"], \"y\": [\"10487.5\"]}, {\"marker\": {\"color\": \"red\", \"size\": 10}, \"mode\": \"markers\", \"name\": \"data/geology/Grt-Alm_domplt.plt - 0.5\", \"showlegend\": true, \"type\": \"scatter\", \"x\": [null], \"y\": [null]}, {\"line\": {\"color\": \"blue\"}, \"mode\": \"lines\", \"name\": \"data/geology/Grt-Gr_domplt.plt - 0.2\", \"showlegend\": false, \"type\": \"scatter\", \"x\": [\"678.49\", \"640.00\", \"638.70\", \"617.92\", \"614.91\", \"614.84\"], \"y\": [\"5600.0\", \"6372.7\", \"6400.0\", \"6800.0\", \"6850.0\", \"6850.8\"]}, {\"line\": {\"color\": \"blue\"}, \"mode\": \"lines\", \"name\": \"data/geology/Grt-Gr_domplt.plt - 0.2\", \"showlegend\": false, \"type\": \"scatter\", \"x\": [\"614.23\", \"613.96\", \"613.75\", \"613.41\", \"611.08\", \"606.03\", \"605.00\", \"600.56\", \"600.15\"], \"y\": [\"6862.5\", \"6875.0\", \"6883.6\", \"6900.0\", \"7000.0\", \"7200.0\", \"7238.3\", \"7400.0\", \"7412.5\"]}, {\"line\": {\"color\": \"blue\"}, \"mode\": \"lines\", \"name\": \"data/geology/Grt-Gr_domplt.plt - 0.2\", \"showlegend\": false, \"type\": \"scatter\", \"x\": [\"568.02\", \"568.91\", \"568.97\", \"570.00\", \"570.75\", \"574.17\", \"578.75\", \"581.28\", \"587.50\", \"595.22\", \"640.00\", \"649.64\", \"701.04\", \"710.00\", \"748.76\", \"749.38\", \"750.13\", \"750.47\"], \"y\": [\"7612.5\", \"7624.2\", \"7625.0\", \"7639.8\", \"7650.0\", \"7700.0\", \"7764.8\", \"7800.0\", \"7889.8\", \"8000.0\", \"8655.5\", \"8800.0\", \"9600.0\", \"9746.1\", \"10400.0\", \"10411.7\", \"10425.0\", \"10430.5\"]}, {\"line\": {\"color\": \"blue\"}, \"mode\": \"lines\", \"name\": \"data/geology/Grt-Gr_domplt.plt - 0.2\", \"showlegend\": false, \"type\": \"scatter\", \"x\": [\"750.95\", \"751.56\", \"751.63\", \"753.75\", \"754.50\", \"760.24\", \"762.50\", \"771.46\", \"780.00\", \"793.47\", \"835.30\"], \"y\": [\"10437.5\", \"10449.2\", \"10450.0\", \"10486.7\", \"10500.0\", \"10600.0\", \"10641.4\", \"10800.0\", \"10953.9\", \"11200.0\", \"12000.0\"]}, {\"line\": {\"color\": \"blue\"}, \"mode\": \"lines\", \"name\": \"data/geology/Grt-Gr_domplt.plt - 0.2\", \"showlegend\": false, \"type\": \"scatter\", \"x\": [\"567.81\", \"568.91\", \"570.00\", \"574.38\", \"576.56\", \"577.66\"], \"y\": [\"7607.0\", \"7607.0\", \"7607.0\", \"7607.0\", \"7607.0\", \"7607.0\"]}, {\"line\": {\"color\": \"blue\"}, \"mode\": \"lines\", \"name\": \"data/geology/Grt-Gr_domplt.plt - 0.2\", \"showlegend\": false, \"type\": \"scatter\", \"x\": [\"595.16\", \"594.40\", \"594.06\", \"591.88\", \"589.76\", \"587.50\", \"580.05\", \"579.84\"], \"y\": [\"7521.1\", \"7525.0\", \"7527.3\", \"7538.3\", \"7550.0\", \"7561.7\", \"7600.0\", \"7600.8\"]}, {\"line\": {\"color\": \"blue\"}, \"mode\": \"lines\", \"name\": \"data/geology/Grt-Gr_domplt.plt - 0.2\", \"showlegend\": false, \"type\": \"scatter\", \"x\": [\"598.10\", \"596.46\", \"596.25\", \"596.04\"], \"y\": [\"7450.0\", \"7500.0\", \"7508.6\", \"7512.5\"]}, {\"line\": {\"color\": \"blue\"}, \"mode\": \"lines\", \"name\": \"data/geology/Grt-Gr_domplt.plt - 0.2\", \"showlegend\": false, \"type\": \"scatter\", \"x\": [\"578.75\"], \"y\": [\"7607.0\"]}, {\"line\": {\"color\": \"blue\"}, \"mode\": \"lines\", \"name\": \"data/geology/Grt-Gr_domplt.plt - 0.2\", \"showlegend\": false, \"type\": \"scatter\", \"x\": [\"679.31\", \"679.38\", \"680.47\"], \"y\": [\"5587.5\", \"5586.7\", \"5580.5\"]}, {\"line\": {\"color\": \"blue\"}, \"mode\": \"lines\", \"name\": \"data/geology/Grt-Gr_domplt.plt - 0.2\", \"showlegend\": false, \"type\": \"scatter\", \"x\": [\"599.60\", \"599.53\", \"598.64\", \"598.44\"], \"y\": [\"7425.0\", \"7425.8\", \"7437.5\", \"7439.8\"]}, {\"line\": {\"color\": \"blue\"}, \"mode\": \"lines\", \"name\": \"data/geology/Grt-Gr_domplt.plt - 0.2\", \"showlegend\": false, \"type\": \"scatter\", \"x\": [\"567.81\"], \"y\": [\"7608.6\"]}, {\"marker\": {\"color\": \"blue\", \"size\": 10}, \"mode\": \"markers\", \"name\": \"data/geology/Grt-Gr_domplt.plt - 0.2\", \"showlegend\": true, \"type\": \"scatter\", \"x\": [null], \"y\": [null]}, {\"line\": {\"color\": \"green\"}, \"mode\": \"lines\", \"name\": \"data/geology/Grt-Py_domplt.plt - 0.3\", \"showlegend\": false, \"type\": \"scatter\", \"x\": [\"771.59\", \"771.25\", \"770.91\", \"766.12\", \"762.50\", \"761.75\", \"746.71\", \"745.00\", \"743.29\", \"741.65\", \"741.24\"], \"y\": [\"6587.5\", \"6593.0\", \"6600.0\", \"6700.0\", \"6782.0\", \"6800.0\", \"7200.0\", \"7249.2\", \"7300.0\", \"7350.0\", \"7362.5\"]}, {\"line\": {\"color\": \"green\"}, \"mode\": \"lines\", \"name\": \"data/geology/Grt-Py_domplt.plt - 0.3\", \"showlegend\": false, \"type\": \"scatter\", \"x\": [\"740.83\", \"740.62\", \"740.42\", \"736.87\", \"727.98\", \"715.95\", \"710.00\", \"708.15\", \"707.81\", \"707.20\"], \"y\": [\"7375.0\", \"7391.4\", \"7400.0\", \"7600.0\", \"8000.0\", \"8400.0\", \"8557.0\", \"8600.0\", \"8608.6\", \"8625.0\"]}, {\"line\": {\"color\": \"green\"}, \"mode\": \"lines\", \"name\": \"data/geology/Grt-Py_domplt.plt - 0.3\", \"showlegend\": false, \"type\": \"scatter\", \"x\": [\"670.01\", \"670.42\", \"670.62\", \"670.97\", \"675.00\", \"676.57\", \"676.85\"], \"y\": [\"8562.5\", \"8575.0\", \"8585.2\", \"8600.0\", \"8744.5\", \"8800.0\", \"8812.5\"]}, {\"line\": {\"color\": \"green\"}, \"mode\": \"lines\", \"name\": \"data/geology/Grt-Py_domplt.plt - 0.3\", \"showlegend\": false, \"type\": \"scatter\", \"x\": [\"677.26\", \"678.62\", \"679.38\", \"681.36\", \"683.75\", \"686.69\", \"692.50\", \"697.35\", \"710.00\", \"718.00\", \"737.96\", \"738.44\", \"739.19\", \"739.53\", \"739.87\"], \"y\": [\"8825.0\", \"8850.0\", \"8863.3\", \"8900.0\", \"8944.5\", \"9000.0\", \"9108.6\", \"9200.0\", \"9443.0\", \"9600.0\", \"10000.0\", \"10008.6\", \"10025.0\", \"10030.5\", \"10037.5\"]}, {\"line\": {\"color\": \"green\"}, \"mode\": \"lines\", \"name\": \"data/geology/Grt-Py_domplt.plt - 0.3\", \"showlegend\": false, \"type\": \"scatter\", \"x\": [\"740.62\", \"742.88\", \"745.00\", \"757.51\", \"780.00\", \"794.42\", \"829.01\"], \"y\": [\"10052.3\", \"10100.0\", \"10141.4\", \"10400.0\", \"10880.5\", \"11200.0\", \"12000.0\"]}, {\"line\": {\"color\": \"green\"}, \"mode\": \"lines\", \"name\": \"data/geology/Grt-Py_domplt.plt - 0.3\", \"showlegend\": false, \"type\": \"scatter\", \"x\": [\"670.62\", \"675.00\", \"679.31\", \"692.50\", \"699.54\", \"701.25\", \"701.87\", \"702.34\"], \"y\": [\"8560.2\", \"8580.5\", \"8600.0\", \"8663.3\", \"8700.0\", \"8708.6\", \"8712.5\", \"8714.8\"]}, {\"line\": {\"color\": \"green\"}, \"mode\": \"lines\", \"name\": \"data/geology/Grt-Py_domplt.plt - 0.3\", \"showlegend\": false, \"type\": \"scatter\", \"x\": [\"706.72\", \"706.65\", \"706.10\", \"705.62\", \"703.78\", \"703.44\", \"703.23\"], \"y\": [\"8635.2\", \"8637.5\", \"8650.0\", \"8660.2\", \"8700.0\", \"8707.0\", \"8712.5\"]}, {\"line\": {\"color\": \"green\"}, \"mode\": \"lines\", \"name\": \"data/geology/Grt-Py_domplt.plt - 0.3\", \"showlegend\": false, \"type\": \"scatter\", \"x\": [\"740.42\"], \"y\": [\"10050.0\"]}, {\"line\": {\"color\": \"green\"}, \"mode\": \"lines\", \"name\": \"data/geology/Grt-Py_domplt.plt - 0.3\", \"showlegend\": false, \"type\": \"scatter\", \"x\": [\"677.19\"], \"y\": [\"8822.7\"]}, {\"marker\": {\"color\": \"green\", \"size\": 10}, \"mode\": \"markers\", \"name\": \"data/geology/Grt-Py_domplt.plt - 0.3\", \"showlegend\": true, \"type\": \"scatter\", \"x\": [null], \"y\": [null]}, {\"line\": {\"color\": \"gray\"}, \"mode\": \"lines\", \"name\": \"data/geology/Grt-Py_domplt.plt - 0\", \"showlegend\": false, \"type\": \"scatter\", \"x\": [\"542.86\", \"543.75\", \"551.47\", \"552.50\", \"553.66\", \"554.69\", \"554.76\"], \"y\": [\"4000.0\", \"4010.2\", \"4100.0\", \"4111.7\", \"4125.0\", \"4136.7\", \"4137.5\"]}, {\"line\": {\"color\": \"gray\"}, \"mode\": \"lines\", \"name\": \"data/geology/Grt-Py_domplt.plt - 0\", \"showlegend\": false, \"type\": \"scatter\", \"x\": [\"555.78\", \"555.85\", \"556.88\", \"560.09\", \"570.00\", \"612.45\", \"640.00\", \"647.59\", \"648.75\", \"652.10\", \"653.12\", \"653.19\"], \"y\": [\"4149.2\", \"4150.0\", \"4163.3\", \"4200.0\", \"4313.3\", \"4800.0\", \"5113.3\", \"5200.0\", \"5211.7\", \"5250.0\", \"5261.7\", \"5262.5\"]}, {\"line\": {\"color\": \"gray\"}, \"mode\": \"lines\", \"name\": \"data/geology/Grt-Py_domplt.plt - 0\", \"showlegend\": false, \"type\": \"scatter\", \"x\": [\"654.22\", \"654.29\", \"655.31\", \"656.47\", \"657.50\", \"665.36\", \"675.00\", \"683.13\", \"710.00\", \"718.96\", \"727.50\", \"727.98\", \"729.69\", \"730.17\"], \"y\": [\"5274.2\", \"5275.0\", \"5286.7\", \"5300.0\", \"5311.7\", \"5400.0\", \"5508.6\", \"5600.0\", \"5900.8\", \"6000.0\", \"6094.5\", \"6100.0\", \"6119.5\", \"6125.0\"]}, {\"line\": {\"color\": \"gray\"}, \"mode\": \"lines\", \"name\": \"data/geology/Grt-Py_domplt.plt - 0\", \"showlegend\": false, \"type\": \"scatter\", \"x\": [\"730.78\", \"731.26\", \"731.88\", \"732.49\", \"736.25\", \"737.00\", \"745.00\", \"755.32\", \"762.50\", \"764.62\", \"771.25\", \"771.46\"], \"y\": [\"6132.0\", \"6137.5\", \"6143.0\", \"6150.0\", \"6191.4\", \"6200.0\", \"6286.7\", \"6400.0\", \"6477.3\", \"6500.0\", \"6572.7\", \"6575.0\"]}, {\"line\": {\"color\": \"gray\"}, \"mode\": \"lines\", \"name\": \"data/geology/Grt-Py_domplt.plt - 0\", \"showlegend\": false, \"type\": \"scatter\", \"x\": [\"782.19\", \"782.94\", \"788.75\", \"791.14\", \"815.00\", \"824.23\", \"850.00\", \"891.63\", \"902.50\", \"904.35\", \"906.88\", \"907.63\", \"907.97\"], \"y\": [\"6691.4\", \"6700.0\", \"6771.1\", \"6800.0\", \"7089.8\", \"7200.0\", \"7508.6\", \"8000.0\", \"8127.3\", \"8150.0\", \"8178.9\", \"8187.5\", \"8191.4\"]}, {\"line\": {\"color\": \"gray\"}, \"mode\": \"lines\", \"name\": \"data/geology/Grt-Py_domplt.plt - 0\", \"showlegend\": false, \"type\": \"scatter\", \"x\": [\"908.58\", \"918.97\", \"920.00\", \"939.48\", \"941.88\", \"942.08\"], \"y\": [\"8200.0\", \"8400.0\", \"8421.1\", \"8800.0\", \"8844.5\", \"8850.0\"]}, {\"line\": {\"color\": \"gray\"}, \"mode\": \"lines\", \"name\": \"data/geology/Grt-Py_domplt.plt - 0\", \"showlegend\": false, \"type\": \"scatter\", \"x\": [\"942.76\", \"942.97\", \"943.45\", \"944.06\", \"944.68\", \"946.25\", \"949.87\", \"955.00\", \"960.13\", \"980.91\", \"990.00\", \"1001.55\", \"1007.50\", \"1009.21\", \"1009.69\"], \"y\": [\"8862.5\", \"8866.4\", \"8875.0\", \"8888.3\", \"8900.0\", \"8930.5\", \"9000.0\", \"9099.2\", \"9200.0\", \"9600.0\", \"9777.3\", \"10000.0\", \"10116.4\", \"10150.0\", \"10158.6\"]}, {\"line\": {\"color\": \"gray\"}, \"mode\": \"lines\", \"name\": \"data/geology/Grt-Py_domplt.plt - 0\", \"showlegend\": false, \"type\": \"scatter\", \"x\": [\"1029.03\", \"1029.38\", \"1029.85\", \"1033.27\", \"1042.50\", \"1046.40\", \"1051.25\", \"1052.69\", \"1055.62\"], \"y\": [\"10337.5\", \"10343.0\", \"10350.0\", \"10400.0\", \"10539.8\", \"10600.0\", \"10677.3\", \"10700.0\", \"10747.7\"]}, {\"line\": {\"color\": \"gray\"}, \"mode\": \"lines\", \"name\": \"data/geology/Grt-Py_domplt.plt - 0\", \"showlegend\": false, \"type\": \"scatter\", \"x\": [\"1082.22\", \"1082.76\", \"1086.18\", \"1086.25\", \"1087.96\", \"1088.44\", \"1088.78\", \"1089.19\"], \"y\": [\"11187.5\", \"11200.0\", \"11300.0\", \"11302.3\", \"11350.0\", \"11364.8\", \"11375.0\", \"11387.5\"]}, {\"line\": {\"color\": \"gray\"}, \"mode\": \"lines\", \"name\": \"data/geology/Grt-Py_domplt.plt - 0\", \"showlegend\": false, \"type\": \"scatter\", \"x\": [\"1089.53\", \"1089.74\", \"1095.00\", \"1096.71\", \"1110.93\"], \"y\": [\"11396.1\", \"11400.0\", \"11552.3\", \"11600.0\", \"12000.0\"]}, {\"line\": {\"color\": \"gray\"}, \"mode\": \"lines\", \"name\": \"data/geology/Grt-Py_domplt.plt - 0\", \"showlegend\": false, \"type\": \"scatter\", \"x\": [\"779.52\", \"780.00\"], \"y\": [\"6662.5\", \"6668.0\"]}, {\"line\": {\"color\": \"gray\"}, \"mode\": \"lines\", \"name\": \"data/geology/Grt-Py_domplt.plt - 0\", \"showlegend\": false, \"type\": \"scatter\", \"x\": [\"1055.83\", \"1058.84\", \"1060.00\", \"1071.14\", \"1077.50\", \"1080.17\", \"1081.88\"], \"y\": [\"10750.0\", \"10800.0\", \"10818.0\", \"11000.0\", \"11105.5\", \"11150.0\", \"11178.9\"]}, {\"line\": {\"color\": \"gray\"}, \"mode\": \"lines\", \"name\": \"data/geology/Grt-Py_domplt.plt - 0\", \"showlegend\": false, \"type\": \"scatter\", \"x\": [\"1010.78\", \"1011.88\", \"1016.25\", \"1018.23\", \"1025.00\", \"1026.30\", \"1027.19\", \"1028.08\", \"1028.28\"], \"y\": [\"10153.9\", \"10155.5\", \"10180.5\", \"10200.0\", \"10282.0\", \"10300.0\", \"10311.7\", \"10325.0\", \"10327.3\"]}, {\"line\": {\"color\": \"gray\"}, \"mode\": \"lines\", \"name\": \"data/geology/Grt-Py_domplt.plt - 0\", \"showlegend\": false, \"type\": \"scatter\", \"x\": [\"772.34\", \"772.69\", \"773.44\", \"773.78\", \"775.62\", \"778.43\", \"778.91\"], \"y\": [\"6583.6\", \"6587.5\", \"6596.1\", \"6600.0\", \"6619.5\", \"6650.0\", \"6655.5\"]}, {\"line\": {\"color\": \"gray\"}, \"mode\": \"lines\", \"name\": \"data/geology/Grt-Py_domplt.plt - 0\", \"showlegend\": false, \"type\": \"scatter\", \"x\": [\"780.75\"], \"y\": [\"6675.0\"]}, {\"line\": {\"color\": \"gray\"}, \"mode\": \"lines\", \"name\": \"data/geology/Grt-Py_domplt.plt - 0\", \"showlegend\": false, \"type\": \"scatter\", \"x\": [\"781.09\", \"781.85\"], \"y\": [\"6678.9\", \"6687.5\"]}, {\"marker\": {\"color\": \"gray\", \"size\": 10}, \"mode\": \"markers\", \"name\": \"data/geology/Grt-Py_domplt.plt - 0\", \"showlegend\": true, \"type\": \"scatter\", \"x\": [null], \"y\": [null]}],\n",
       "                        {\"autosize\": false, \"height\": 700, \"template\": {\"data\": {\"bar\": [{\"error_x\": {\"color\": \"#2a3f5f\"}, \"error_y\": {\"color\": \"#2a3f5f\"}, \"marker\": {\"line\": {\"color\": \"#E5ECF6\", \"width\": 0.5}}, \"type\": \"bar\"}], \"barpolar\": [{\"marker\": {\"line\": {\"color\": \"#E5ECF6\", \"width\": 0.5}}, \"type\": \"barpolar\"}], \"carpet\": [{\"aaxis\": {\"endlinecolor\": \"#2a3f5f\", \"gridcolor\": \"white\", \"linecolor\": \"white\", \"minorgridcolor\": \"white\", \"startlinecolor\": \"#2a3f5f\"}, \"baxis\": {\"endlinecolor\": \"#2a3f5f\", \"gridcolor\": \"white\", \"linecolor\": \"white\", \"minorgridcolor\": \"white\", \"startlinecolor\": \"#2a3f5f\"}, \"type\": \"carpet\"}], \"choropleth\": [{\"colorbar\": {\"outlinewidth\": 0, \"ticks\": \"\"}, \"type\": \"choropleth\"}], \"contour\": [{\"colorbar\": {\"outlinewidth\": 0, \"ticks\": \"\"}, \"colorscale\": [[0.0, \"#0d0887\"], [0.1111111111111111, \"#46039f\"], [0.2222222222222222, \"#7201a8\"], [0.3333333333333333, \"#9c179e\"], [0.4444444444444444, \"#bd3786\"], [0.5555555555555556, \"#d8576b\"], [0.6666666666666666, \"#ed7953\"], [0.7777777777777778, \"#fb9f3a\"], [0.8888888888888888, \"#fdca26\"], [1.0, \"#f0f921\"]], \"type\": \"contour\"}], \"contourcarpet\": [{\"colorbar\": {\"outlinewidth\": 0, \"ticks\": \"\"}, \"type\": \"contourcarpet\"}], \"heatmap\": [{\"colorbar\": {\"outlinewidth\": 0, \"ticks\": \"\"}, \"colorscale\": [[0.0, \"#0d0887\"], [0.1111111111111111, \"#46039f\"], [0.2222222222222222, \"#7201a8\"], [0.3333333333333333, \"#9c179e\"], [0.4444444444444444, \"#bd3786\"], [0.5555555555555556, \"#d8576b\"], [0.6666666666666666, \"#ed7953\"], [0.7777777777777778, \"#fb9f3a\"], [0.8888888888888888, \"#fdca26\"], [1.0, \"#f0f921\"]], \"type\": \"heatmap\"}], \"heatmapgl\": [{\"colorbar\": {\"outlinewidth\": 0, \"ticks\": \"\"}, \"colorscale\": [[0.0, \"#0d0887\"], [0.1111111111111111, \"#46039f\"], [0.2222222222222222, \"#7201a8\"], [0.3333333333333333, \"#9c179e\"], [0.4444444444444444, \"#bd3786\"], [0.5555555555555556, \"#d8576b\"], [0.6666666666666666, \"#ed7953\"], [0.7777777777777778, \"#fb9f3a\"], [0.8888888888888888, \"#fdca26\"], [1.0, \"#f0f921\"]], \"type\": \"heatmapgl\"}], \"histogram\": [{\"marker\": {\"colorbar\": {\"outlinewidth\": 0, \"ticks\": \"\"}}, \"type\": \"histogram\"}], \"histogram2d\": [{\"colorbar\": {\"outlinewidth\": 0, \"ticks\": \"\"}, \"colorscale\": [[0.0, \"#0d0887\"], [0.1111111111111111, \"#46039f\"], [0.2222222222222222, \"#7201a8\"], [0.3333333333333333, \"#9c179e\"], [0.4444444444444444, \"#bd3786\"], [0.5555555555555556, \"#d8576b\"], [0.6666666666666666, \"#ed7953\"], [0.7777777777777778, \"#fb9f3a\"], [0.8888888888888888, \"#fdca26\"], [1.0, \"#f0f921\"]], \"type\": \"histogram2d\"}], \"histogram2dcontour\": [{\"colorbar\": {\"outlinewidth\": 0, \"ticks\": \"\"}, \"colorscale\": [[0.0, \"#0d0887\"], [0.1111111111111111, \"#46039f\"], [0.2222222222222222, \"#7201a8\"], [0.3333333333333333, \"#9c179e\"], [0.4444444444444444, \"#bd3786\"], [0.5555555555555556, \"#d8576b\"], [0.6666666666666666, \"#ed7953\"], [0.7777777777777778, \"#fb9f3a\"], [0.8888888888888888, \"#fdca26\"], [1.0, \"#f0f921\"]], \"type\": \"histogram2dcontour\"}], \"mesh3d\": [{\"colorbar\": {\"outlinewidth\": 0, \"ticks\": \"\"}, \"type\": \"mesh3d\"}], \"parcoords\": [{\"line\": {\"colorbar\": {\"outlinewidth\": 0, \"ticks\": \"\"}}, \"type\": \"parcoords\"}], \"pie\": [{\"automargin\": true, \"type\": \"pie\"}], \"scatter\": [{\"marker\": {\"colorbar\": {\"outlinewidth\": 0, \"ticks\": \"\"}}, \"type\": \"scatter\"}], \"scatter3d\": [{\"line\": {\"colorbar\": {\"outlinewidth\": 0, \"ticks\": \"\"}}, \"marker\": {\"colorbar\": {\"outlinewidth\": 0, \"ticks\": \"\"}}, \"type\": \"scatter3d\"}], \"scattercarpet\": [{\"marker\": {\"colorbar\": {\"outlinewidth\": 0, \"ticks\": \"\"}}, \"type\": \"scattercarpet\"}], \"scattergeo\": [{\"marker\": {\"colorbar\": {\"outlinewidth\": 0, \"ticks\": \"\"}}, \"type\": \"scattergeo\"}], \"scattergl\": [{\"marker\": {\"colorbar\": {\"outlinewidth\": 0, \"ticks\": \"\"}}, \"type\": \"scattergl\"}], \"scattermapbox\": [{\"marker\": {\"colorbar\": {\"outlinewidth\": 0, \"ticks\": \"\"}}, \"type\": \"scattermapbox\"}], \"scatterpolar\": [{\"marker\": {\"colorbar\": {\"outlinewidth\": 0, \"ticks\": \"\"}}, \"type\": \"scatterpolar\"}], \"scatterpolargl\": [{\"marker\": {\"colorbar\": {\"outlinewidth\": 0, \"ticks\": \"\"}}, \"type\": \"scatterpolargl\"}], \"scatterternary\": [{\"marker\": {\"colorbar\": {\"outlinewidth\": 0, \"ticks\": \"\"}}, \"type\": \"scatterternary\"}], \"surface\": [{\"colorbar\": {\"outlinewidth\": 0, \"ticks\": \"\"}, \"colorscale\": [[0.0, \"#0d0887\"], [0.1111111111111111, \"#46039f\"], [0.2222222222222222, \"#7201a8\"], [0.3333333333333333, \"#9c179e\"], [0.4444444444444444, \"#bd3786\"], [0.5555555555555556, \"#d8576b\"], [0.6666666666666666, \"#ed7953\"], [0.7777777777777778, \"#fb9f3a\"], [0.8888888888888888, \"#fdca26\"], [1.0, \"#f0f921\"]], \"type\": \"surface\"}], \"table\": [{\"cells\": {\"fill\": {\"color\": \"#EBF0F8\"}, \"line\": {\"color\": \"white\"}}, \"header\": {\"fill\": {\"color\": \"#C8D4E3\"}, \"line\": {\"color\": \"white\"}}, \"type\": \"table\"}]}, \"layout\": {\"annotationdefaults\": {\"arrowcolor\": \"#2a3f5f\", \"arrowhead\": 0, \"arrowwidth\": 1}, \"coloraxis\": {\"colorbar\": {\"outlinewidth\": 0, \"ticks\": \"\"}}, \"colorscale\": {\"diverging\": [[0, \"#8e0152\"], [0.1, \"#c51b7d\"], [0.2, \"#de77ae\"], [0.3, \"#f1b6da\"], [0.4, \"#fde0ef\"], [0.5, \"#f7f7f7\"], [0.6, \"#e6f5d0\"], [0.7, \"#b8e186\"], [0.8, \"#7fbc41\"], [0.9, \"#4d9221\"], [1, \"#276419\"]], \"sequential\": [[0.0, \"#0d0887\"], [0.1111111111111111, \"#46039f\"], [0.2222222222222222, \"#7201a8\"], [0.3333333333333333, \"#9c179e\"], [0.4444444444444444, \"#bd3786\"], [0.5555555555555556, \"#d8576b\"], [0.6666666666666666, \"#ed7953\"], [0.7777777777777778, \"#fb9f3a\"], [0.8888888888888888, \"#fdca26\"], [1.0, \"#f0f921\"]], \"sequentialminus\": [[0.0, \"#0d0887\"], [0.1111111111111111, \"#46039f\"], [0.2222222222222222, \"#7201a8\"], [0.3333333333333333, \"#9c179e\"], [0.4444444444444444, \"#bd3786\"], [0.5555555555555556, \"#d8576b\"], [0.6666666666666666, \"#ed7953\"], [0.7777777777777778, \"#fb9f3a\"], [0.8888888888888888, \"#fdca26\"], [1.0, \"#f0f921\"]]}, \"colorway\": [\"#636efa\", \"#EF553B\", \"#00cc96\", \"#ab63fa\", \"#FFA15A\", \"#19d3f3\", \"#FF6692\", \"#B6E880\", \"#FF97FF\", \"#FECB52\"], \"font\": {\"color\": \"#2a3f5f\"}, \"geo\": {\"bgcolor\": \"white\", \"lakecolor\": \"white\", \"landcolor\": \"#E5ECF6\", \"showlakes\": true, \"showland\": true, \"subunitcolor\": \"white\"}, \"hoverlabel\": {\"align\": \"left\"}, \"hovermode\": \"closest\", \"mapbox\": {\"style\": \"light\"}, \"paper_bgcolor\": \"white\", \"plot_bgcolor\": \"#E5ECF6\", \"polar\": {\"angularaxis\": {\"gridcolor\": \"white\", \"linecolor\": \"white\", \"ticks\": \"\"}, \"bgcolor\": \"#E5ECF6\", \"radialaxis\": {\"gridcolor\": \"white\", \"linecolor\": \"white\", \"ticks\": \"\"}}, \"scene\": {\"xaxis\": {\"backgroundcolor\": \"#E5ECF6\", \"gridcolor\": \"white\", \"gridwidth\": 2, \"linecolor\": \"white\", \"showbackground\": true, \"ticks\": \"\", \"zerolinecolor\": \"white\"}, \"yaxis\": {\"backgroundcolor\": \"#E5ECF6\", \"gridcolor\": \"white\", \"gridwidth\": 2, \"linecolor\": \"white\", \"showbackground\": true, \"ticks\": \"\", \"zerolinecolor\": \"white\"}, \"zaxis\": {\"backgroundcolor\": \"#E5ECF6\", \"gridcolor\": \"white\", \"gridwidth\": 2, \"linecolor\": \"white\", \"showbackground\": true, \"ticks\": \"\", \"zerolinecolor\": \"white\"}}, \"shapedefaults\": {\"line\": {\"color\": \"#2a3f5f\"}}, \"ternary\": {\"aaxis\": {\"gridcolor\": \"white\", \"linecolor\": \"white\", \"ticks\": \"\"}, \"baxis\": {\"gridcolor\": \"white\", \"linecolor\": \"white\", \"ticks\": \"\"}, \"bgcolor\": \"#E5ECF6\", \"caxis\": {\"gridcolor\": \"white\", \"linecolor\": \"white\", \"ticks\": \"\"}}, \"title\": {\"x\": 0.05}, \"xaxis\": {\"automargin\": true, \"gridcolor\": \"white\", \"linecolor\": \"white\", \"ticks\": \"\", \"title\": {\"standoff\": 15}, \"zerolinecolor\": \"white\", \"zerolinewidth\": 2}, \"yaxis\": {\"automargin\": true, \"gridcolor\": \"white\", \"linecolor\": \"white\", \"ticks\": \"\", \"title\": {\"standoff\": 15}, \"zerolinecolor\": \"white\", \"zerolinewidth\": 2}}}, \"width\": 900, \"xaxis\": {\"range\": [500, 1200], \"title\": {\"text\": \"Temperature\"}}, \"yaxis\": {\"range\": [4000, 12000], \"title\": {\"text\": \"Pressure\"}}},\n",
       "                        {\"responsive\": true}\n",
       "                    ).then(function(){\n",
       "                            \n",
       "var gd = document.getElementById('f4eae81e-4e30-4294-ab27-b8ee986428a0');\n",
       "var x = new MutationObserver(function (mutations, observer) {{\n",
       "        var display = window.getComputedStyle(gd).display;\n",
       "        if (!display || display === 'none') {{\n",
       "            console.log([gd, 'removed!']);\n",
       "            Plotly.purge(gd);\n",
       "            observer.disconnect();\n",
       "        }}\n",
       "}});\n",
       "\n",
       "// Listen for the removal of the full notebook cells\n",
       "var notebookContainer = gd.closest('#notebook-container');\n",
       "if (notebookContainer) {{\n",
       "    x.observe(notebookContainer, {childList: true});\n",
       "}}\n",
       "\n",
       "// Listen for the clearing of the current output cell\n",
       "var outputEl = gd.closest('.output');\n",
       "if (outputEl) {{\n",
       "    x.observe(outputEl, {childList: true});\n",
       "}}\n",
       "\n",
       "                        })\n",
       "                };\n",
       "                });\n",
       "            </script>\n",
       "        </div>"
      ]
     },
     "metadata": {},
     "output_type": "display_data"
    }
   ],
   "source": [
    "config = [\n",
    "    {\n",
    "        'filename': \"data/geology/Grt-Alm_domplt.plt\",\n",
    "        'value': 0.5,\n",
    "        'color':'red'\n",
    "    },{\n",
    "        'filename': \"data/geology/Grt-Gr_domplt.plt\",\n",
    "        'value': 0.2,\n",
    "        'color':'blue'\n",
    "    },{\n",
    "        'filename': \"data/geology/Grt-Py_domplt.plt\",\n",
    "        'value': 0.3,\n",
    "        'color':'green'\n",
    "    },{\n",
    "        'filename': \"data/geology/Grt-Py_domplt.plt\",\n",
    "        'value': 0,\n",
    "        'color':'gray'\n",
    "    }\n",
    "]\n",
    "plot(config)"
   ]
  },
  {
   "cell_type": "code",
   "execution_count": null,
   "metadata": {},
   "outputs": [],
   "source": []
  }
 ],
 "metadata": {
  "kernelspec": {
   "display_name": "Python 3",
   "language": "python",
   "name": "python3"
  },
  "language_info": {
   "codemirror_mode": {
    "name": "ipython",
    "version": 3
   },
   "file_extension": ".py",
   "mimetype": "text/x-python",
   "name": "python",
   "nbconvert_exporter": "python",
   "pygments_lexer": "ipython3",
   "version": "3.7.4"
  }
 },
 "nbformat": 4,
 "nbformat_minor": 2
}
